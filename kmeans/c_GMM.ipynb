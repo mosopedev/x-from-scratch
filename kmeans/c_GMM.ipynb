{
 "cells": [
  {
   "cell_type": "code",
   "execution_count": 24,
   "metadata": {},
   "outputs": [],
   "source": [
    "import pandas as pd\n",
    "import numpy as np\n",
    "import matplotlib.pyplot as plt\n",
    "import struct\n",
    "from collections import Counter"
   ]
  },
  {
   "cell_type": "code",
   "execution_count": 25,
   "metadata": {},
   "outputs": [],
   "source": [
    "train_images_path = 'dataset/train-images.idx3-ubyte'\n",
    "train_labels_path = 'dataset/train-labels.idx1-ubyte'\n",
    "test_images_path = 'dataset/t10k-images.idx3-ubyte'\n",
    "test_labels_path = 'dataset/t10k-labels.idx1-ubyte'\n",
    "\n",
    "def load_idx(filename):\n",
    "    with open(filename, 'rb') as f:\n",
    "        zero, data_type, dims = struct.unpack('>HBB', f.read(4))\n",
    "        shape = tuple(struct.unpack('>I', f.read(4))[0] for d in range(dims))\n",
    "        return np.frombuffer(f.read(), dtype=np.uint8).reshape(shape)"
   ]
  },
  {
   "cell_type": "code",
   "execution_count": 26,
   "metadata": {},
   "outputs": [],
   "source": [
    "from sklearn.decomposition import PCA\n",
    "pca = PCA(n_components=20)\n",
    "X_train = load_idx(train_images_path).reshape(60000, 784)\n",
    "y_train = load_idx(train_labels_path)\n",
    "X_test = load_idx(test_images_path).reshape(10000, 784)\n",
    "y_test = load_idx(test_labels_path)\n",
    "\n",
    "X_train_pca = pca.fit_transform(X_train)\n",
    "X_test_pca = pca.transform(X_test)\n",
    "\n",
    "\n",
    "from sklearn.preprocessing import StandardScaler\n",
    "sc = StandardScaler()\n",
    "X_train_pca = sc.fit_transform(X_train_pca)\n",
    "X_test_pca = sc.transform(X_test_pca)"
   ]
  },
  {
   "cell_type": "code",
   "execution_count": 27,
   "metadata": {},
   "outputs": [
    {
     "name": "stdout",
     "output_type": "stream",
     "text": [
      "X_train shape: (60000, 20)\n",
      "X_test shape: (10000, 20)\n",
      "y_train shape: (60000,)\n",
      "y_test shape: (10000,)\n"
     ]
    }
   ],
   "source": [
    "print('X_train shape:', X_train_pca.shape)\n",
    "print('X_test shape:', X_test_pca.shape)\n",
    "print('y_train shape:', y_train.shape)\n",
    "print('y_test shape:', y_test.shape)"
   ]
  },
  {
   "cell_type": "code",
   "execution_count": 28,
   "metadata": {},
   "outputs": [
    {
     "data": {
      "text/plain": [
       "array([[ 0.21485559, -0.63392676, -0.05330361, ...,  1.46802653,\n",
       "         1.27204642,  0.83839742],\n",
       "       [ 1.75396433, -0.59780343,  1.29668494, ...,  0.17272836,\n",
       "         0.24901099, -0.51095848],\n",
       "       [-0.08988901,  0.79510551, -0.40989693, ..., -0.58033766,\n",
       "        -0.04847295, -2.17738855],\n",
       "       ...,\n",
       "       [-0.30868215,  0.32454814, -0.56015578, ..., -0.19089356,\n",
       "         0.49895653,  1.20682925],\n",
       "       [ 0.22642506, -0.01133728,  1.11733794, ..., -0.68586875,\n",
       "        -0.36871049,  0.9867435 ],\n",
       "       [-0.30067703, -0.05011574,  1.20901148, ...,  1.29312992,\n",
       "         0.52952658, -1.03281044]])"
      ]
     },
     "execution_count": 28,
     "metadata": {},
     "output_type": "execute_result"
    }
   ],
   "source": [
    "X_train_pca"
   ]
  },
  {
   "cell_type": "code",
   "execution_count": 29,
   "metadata": {},
   "outputs": [],
   "source": [
    "def cGMM(X, K, max_iter=100, tol=1e-5):\n",
    "    n_samples, n_features = X.shape\n",
    "    pi = np.ones(K) / K \n",
    "    means = np.random.rand(K, n_features)\n",
    "    variances = np.ones((K, n_features))\n",
    "    responsibilities = np.zeros((n_samples, K))\n",
    "\n",
    "    prev_log_likelihood = -np.inf  # track the log likelihood for convergence\n",
    "    \n",
    "    for iteration in range(max_iter):\n",
    "        # e step, update responsibilities\n",
    "        log_responsibilities = np.zeros((n_samples, K))\n",
    "        \n",
    "        for k in range(K):\n",
    "            for j in range(n_features):\n",
    "                log_responsibilities[:, k] += (\n",
    "                    -0.5 * np.log(2 * np.pi * variances[k, j])\n",
    "                    -0.5 * ((X[:, j] - means[k, j]) ** 2) / variances[k, j]\n",
    "                )\n",
    "        \n",
    "        # Normalize responsibilities\n",
    "        log_responsibilities = np.exp(log_responsibilities - np.max(log_responsibilities, axis=1, keepdims=True))\n",
    "        responsibilities = log_responsibilities / log_responsibilities.sum(axis=1, keepdims=True)\n",
    "        \n",
    "        # m step, update parameters (means, variances, and pi)\n",
    "        for k in range(K):\n",
    "            Nk = responsibilities[:, k].sum()\n",
    "            pi[k] = Nk / n_samples\n",
    "            \n",
    "            for j in range(n_features):\n",
    "                means[k, j] = (responsibilities[:, k] * X[:, j]).sum() / Nk\n",
    "                variances[k, j] = (responsibilities[:, k] * (X[:, j] - means[k, j])**2).sum() / Nk\n",
    "        \n",
    "        # log-likelihood for convergence check\n",
    "        log_likelihood = np.sum(np.log(responsibilities.sum(axis=1)))\n",
    "        \n",
    "        if iteration > 1 and np.abs(log_likelihood - prev_log_likelihood) < tol:\n",
    "            break\n",
    "        \n",
    "        prev_log_likelihood = log_likelihood \n",
    "    \n",
    "    return means, variances, pi, responsibilities"
   ]
  },
  {
   "cell_type": "code",
   "execution_count": 30,
   "metadata": {},
   "outputs": [
    {
     "name": "stdout",
     "output_type": "stream",
     "text": [
      "Cluster consistency for cGMM with K=10: 0.4347207636499542\n"
     ]
    }
   ],
   "source": [
    "K = 10\n",
    "means, variances, pi, responsibilities = cGMM(X_train_pca, K)\n",
    "\n",
    "clusters = np.argmax(responsibilities, axis=1)\n",
    "\n",
    "\n",
    "def cluster_consistency_cgmm(clusters, labels, k):\n",
    "    Q_total = 0\n",
    "    valid_clusters = 0\n",
    "    \n",
    "    for cluster in range(k):\n",
    "        cluster_points = labels[clusters == cluster]\n",
    "        if len(cluster_points) == 0:\n",
    "            continue\n",
    "        \n",
    "        label_counts = Counter(cluster_points)\n",
    "        mi = max(label_counts.values()) \n",
    "        Ni = len(cluster_points) \n",
    "        \n",
    "        if Ni > 0:\n",
    "            Qi = mi / Ni\n",
    "            Q_total += Qi\n",
    "            valid_clusters += 1\n",
    "    \n",
    "    return Q_total / valid_clusters if valid_clusters > 0 else 0\n",
    "\n",
    "Q_cgmm = cluster_consistency_cgmm(clusters, y_train, K)\n",
    "print(f\"Cluster consistency for cGMM with K={K}: {Q_cgmm}\")"
   ]
  }
 ],
 "metadata": {
  "kernelspec": {
   "display_name": "base",
   "language": "python",
   "name": "python3"
  },
  "language_info": {
   "codemirror_mode": {
    "name": "ipython",
    "version": 3
   },
   "file_extension": ".py",
   "mimetype": "text/x-python",
   "name": "python",
   "nbconvert_exporter": "python",
   "pygments_lexer": "ipython3",
   "version": "3.11.5"
  }
 },
 "nbformat": 4,
 "nbformat_minor": 2
}
